{
 "cells": [
  {
   "cell_type": "code",
   "execution_count": 1,
   "metadata": {},
   "outputs": [],
   "source": [
    "import simpy\n",
    "import numpy as np\n",
    "import pandas as pd\n",
    "import matplotlib.pyplot as plt\n",
    "%matplotlib inline"
   ]
  },
  {
   "cell_type": "code",
   "execution_count": 2,
   "metadata": {},
   "outputs": [],
   "source": [
    "RANDOM_SEED = 42\n",
    "\n",
    "NUM_ID_CHECK_SERVERS = 5     # number of id check queues\n",
    "NUM_BODY_SCANNERS = 5        # number of body scanners/queues\n",
    "T_INTER = 0.2                # mean passenger inter_arrival time (poisson distributed)\n",
    "ID_CHECK_TIME = 0.75         # mean time each server takes to check an ID (exponentially distributed)\n",
    "SCAN_TIME_LOW, SCAN_TIME_HIGH = 0.5, 1  # time taken at a scanner to scan a passenger (uniformly distributed)\n",
    "SIM_TIME = 1000               # Simulation time in minutes"
   ]
  },
  {
   "cell_type": "code",
   "execution_count": 3,
   "metadata": {},
   "outputs": [],
   "source": [
    "class IdCheck:\n",
    "    \"\"\"An ID check queue at the airport has a limited number of servers working in parallel.\n",
    "    Passengers get on a queue and get their IDs checked within an exponential processing time\n",
    "    with mean of 0.75 minutes.\n",
    "    \n",
    "    \"\"\"\n",
    "    def __init__(self, env, num_servers):\n",
    "        self.env = env\n",
    "        self.server = simpy.Resource(env, num_servers)\n",
    "    \n",
    "        \n",
    "    def check_passenger_id(self, passenger):\n",
    "        \"\"\"The id check process.\"\"\"\n",
    "        yield self.env.timeout(np.random.exponential(1/ID_CHECK_TIME))\n",
    "        # print(f\"{passenger}'s ID check completed\")\n",
    "        \n",
    "class PersonalCheck:\n",
    "    \"\"\"Personal Check Queues with a limited number of personal scanners working in parallel. \n",
    "    Passengers get on the shortest queue after the ID check and when it's their turn, are processing\n",
    "    at time that is uniformly distributed between 0.5 and 1 minute.\n",
    "    \n",
    "    \"\"\"\n",
    "    def __init__(self, env, capacity=1):\n",
    "        self.env = env\n",
    "        self.bodyscanner = simpy.Resource(env, capacity)\n",
    "        \n",
    "    def scan_passenger(self, passenger):\n",
    "        \"\"\"The id check process.\"\"\"\n",
    "        yield self.env.timeout(np.random.uniform(SCAN_TIME_LOW, SCAN_TIME_HIGH))\n",
    "        # print(f\"{passenger} has completed personal check\")\n",
    "\n",
    "processing_times = []        \n",
    "def passenger(env, name, idchecker, scan_stations):\n",
    "    \"\"\"The passenger process. Each passenger has a name, and when they arrive at security check \n",
    "    joins an id check queue and waits their turn.\n",
    "    \n",
    "    After completing Id check, the passenger then joins the shortest personal check queue,\n",
    "    completes personal scan, and proceeds to the boarding area.\n",
    "    \n",
    "    \"\"\"\n",
    "    # id check\n",
    "    arrival_time = float(env.now)\n",
    "    # print(f'{name} arrives at security check at {arrival_time:.2f}')\n",
    "    with idchecker.server.request() as request:\n",
    "        yield request\n",
    "        \n",
    "        # print(f'{name} starts id check at {float(env.now):.2f}')\n",
    "        yield env.process(idchecker.check_passenger_id(name))\n",
    "        \n",
    "        # print(f'{name} completes id check at {float(env.now):.2f}')\n",
    "        \n",
    "    def _shortest_queue(scan_stations):\n",
    "        shortest = min([len(scan_station.bodyscanner.queue) for scan_station in scan_stations])\n",
    "        for scan_station in scan_stations:\n",
    "            if len(scan_station.bodyscanner.queue) == shortest:\n",
    "                return scan_station\n",
    "    \n",
    "    shortest_queue = _shortest_queue(scan_stations)\n",
    "    \n",
    "    #personal check\n",
    "    # print(f'{name} joins personal scanner queue at {float(env.now):.2f}')\n",
    "    with shortest_queue.bodyscanner.request() as request:\n",
    "        yield request\n",
    "        \n",
    "        # print(f'{name} starts personal scan at {float(env.now):.2f}')\n",
    "        yield env.process(shortest_queue.scan_passenger(name))\n",
    "        \n",
    "        exit_time = float(env.now)\n",
    "        # print(f'{name} completes personal check at {exit_time:.2f}')\n",
    "        \n",
    "    processing_times.append({'name': name, 'processing_time': (exit_time - arrival_time)})\n",
    "        \n",
    "def setup(env, num_id_checkers, num_personal_scanners, t_inter):\n",
    "    \"\"\"Create a id check resource with a number of server, personal check resources,\n",
    "    and a number of initial passengers at security. \n",
    "    Keep adding passengers at the inter-arrival rate\n",
    "    \"\"\"\n",
    "\n",
    "    #create the IDcheck resource\n",
    "    idchecker = IdCheck(env, num_id_checkers)\n",
    "    \n",
    "    scan_stations = []\n",
    "    for _ in range(num_personal_scanners):\n",
    "        station = PersonalCheck(env)\n",
    "        scan_stations.append(station)\n",
    "    \n",
    "    \n",
    "    # create ten initial passengers\n",
    "    for i in range(10):\n",
    "        env.process(passenger(env, f'Passenger {i}', idchecker, scan_stations))\n",
    "\n",
    "        \n",
    "    # Create more cars while the simulation is running\n",
    "    while True:\n",
    "        yield env.timeout(np.random.poisson(t_inter))\n",
    "        i += 1\n",
    "        env.process(passenger(env, f'Passenger {i}', idchecker, scan_stations))"
   ]
  },
  {
   "cell_type": "markdown",
   "metadata": {},
   "source": [
    "Having completed the system set up and configuration above, I will run the simuation for 100 iterations of 1000 passengers going through the system, and plot a histogram of the mean processing time for each iteration.\n",
    "\n",
    "As the first step, I run the simulation with 5 id checkers and 5 personal scan machines as defined earlier."
   ]
  },
  {
   "cell_type": "code",
   "execution_count": 4,
   "metadata": {},
   "outputs": [
    {
     "name": "stdout",
     "output_type": "stream",
     "text": [
      " Starting Airport Security Simulation\n"
     ]
    },
    {
     "data": {
      "image/png": "[encoded data removed]",
      "text/plain": [
       "<Figure size 432x288 with 1 Axes>"
      ]
     },
     "metadata": {
      "needs_background": "light"
     },
     "output_type": "display_data"
    }
   ],
   "source": [
    "print(' Starting Airport Security Simulation')\n",
    "np.random.seed(RANDOM_SEED)\n",
    "\n",
    "# Create an environment and start the setup process\n",
    "mean_processing_times = []\n",
    "for _ in range(100):\n",
    "    \n",
    "    env = simpy.Environment()\n",
    "    env.process(setup(env, NUM_ID_CHECK_SERVERS, NUM_BODY_SCANNERS, T_INTER))\n",
    "\n",
    "    #Execute\n",
    "    env.run(until=SIM_TIME)\n",
    "    \n",
    "    times = pd.DataFrame(processing_times)\n",
    "    mean_time = times['processing_time'].mean()\n",
    "    mean_processing_times.append(mean_time)\n",
    "plt.hist(mean_processing_times)\n",
    "plt.title('Histogram of mean passenger wait time')\n",
    "plt.xlabel('Passenger wait time');"
   ]
  },
  {
   "cell_type": "markdown",
   "metadata": {},
   "source": [
    "The lowest procesing time that we get with this configuration is over 120 minutes! Definitely not good enough.\n",
    "\n",
    "I will try gradually increasing the number of servers and number of body scanners to see where I can get acceptable results. I will lean more toward increasing the number of id check servers of course, as this will be cheaper to implement.\n",
    "\n",
    "The next run of the simulation will use 10 id checkers and 10 scanners."
   ]
  },
  {
   "cell_type": "code",
   "execution_count": 5,
   "metadata": {},
   "outputs": [
    {
     "name": "stdout",
     "output_type": "stream",
     "text": [
      "Airport Security\n"
     ]
    },
    {
     "data": {
      "image/png": "[encoded data removed]",
      "text/plain": [
       "<Figure size 432x288 with 1 Axes>"
      ]
     },
     "metadata": {
      "needs_background": "light"
     },
     "output_type": "display_data"
    }
   ],
   "source": [
    "print('Airport Security')\n",
    "np.random.seed(RANDOM_SEED)\n",
    "\n",
    "# Create an environment and start the setup process\n",
    "mean_processing_times = []\n",
    "for _ in range(100):\n",
    "    \n",
    "    env = simpy.Environment()\n",
    "    env.process(setup(env, 10, 10, T_INTER))\n",
    "\n",
    "    #Execute\n",
    "    env.run(until=SIM_TIME)\n",
    "    \n",
    "    times = pd.DataFrame(processing_times)\n",
    "    mean_time = times['processing_time'].mean()\n",
    "    mean_processing_times.append(mean_time)\n",
    "plt.hist(mean_processing_times)\n",
    "plt.title('Histogram of mean passenger wait time')\n",
    "plt.xlabel('Passenger wait time');"
   ]
  },
  {
   "cell_type": "markdown",
   "metadata": {},
   "source": [
    "The mean passenger wait time has been reduced to between 60 and 120 minutes. I will try another doubling of both the number of id check servers, while holding the number of body scanners steady at 10."
   ]
  },
  {
   "cell_type": "code",
   "execution_count": 6,
   "metadata": {},
   "outputs": [
    {
     "name": "stdout",
     "output_type": "stream",
     "text": [
      "Starting Airport Security Simulation\n"
     ]
    },
    {
     "data": {
      "image/png": "[encoded data removed]",
      "text/plain": [
       "<Figure size 432x288 with 1 Axes>"
      ]
     },
     "metadata": {
      "needs_background": "light"
     },
     "output_type": "display_data"
    }
   ],
   "source": [
    "print('Starting Airport Security Simulation')\n",
    "np.random.seed(RANDOM_SEED)\n",
    "\n",
    "# Create an environment and start the setup process\n",
    "mean_processing_times = []\n",
    "for _ in range(100):\n",
    "    \n",
    "    env = simpy.Environment()\n",
    "    env.process(setup(env, 20, 10, T_INTER))\n",
    "\n",
    "    #Execute\n",
    "    env.run(until=SIM_TIME)\n",
    "    \n",
    "    times = pd.DataFrame(processing_times)\n",
    "    mean_time = times['processing_time'].mean()\n",
    "    mean_processing_times.append(mean_time)\n",
    "plt.hist(mean_processing_times)\n",
    "plt.title('Histogram of mean passenger wait time')\n",
    "plt.xlabel('Passenger wait time');"
   ]
  },
  {
   "cell_type": "markdown",
   "metadata": {},
   "source": [
    "Doubling the number of servers has reduced the average passenger wait time to between 37.5 and 55 minutes. This is an improvement, but not quite as good as we want. I will further increase the number of id check servers to 30."
   ]
  },
  {
   "cell_type": "code",
   "execution_count": 7,
   "metadata": {},
   "outputs": [
    {
     "name": "stdout",
     "output_type": "stream",
     "text": [
      "Starting Airport Security Simulation\n"
     ]
    },
    {
     "data": {
      "image/png": "[encoded data removed]",
      "text/plain": [
       "<Figure size 432x288 with 1 Axes>"
      ]
     },
     "metadata": {
      "needs_background": "light"
     },
     "output_type": "display_data"
    }
   ],
   "source": [
    "print('Starting Airport Security Simulation')\n",
    "np.random.seed(RANDOM_SEED)\n",
    "\n",
    "# Create an environment and start the setup process\n",
    "mean_processing_times = []\n",
    "for _ in range(100):\n",
    "    \n",
    "    env = simpy.Environment()\n",
    "    env.process(setup(env, 30, 10, T_INTER))\n",
    "\n",
    "    #Execute\n",
    "    env.run(until=SIM_TIME)\n",
    "    \n",
    "    times = pd.DataFrame(processing_times)\n",
    "    mean_time = times['processing_time'].mean()\n",
    "    mean_processing_times.append(mean_time)\n",
    "plt.hist(mean_processing_times)\n",
    "plt.title('Histogram of mean passenger wait time')\n",
    "plt.xlabel('Passenger wait time');"
   ]
  },
  {
   "cell_type": "markdown",
   "metadata": {},
   "source": [
    "We are now down to processing all passengers in under 40 minutes, on the average. I will add more body scanners to see if the desired average wait time of under 15 minutes can be achieved."
   ]
  },
  {
   "cell_type": "code",
   "execution_count": 8,
   "metadata": {},
   "outputs": [
    {
     "name": "stdout",
     "output_type": "stream",
     "text": [
      "Starting Airport Security Simulation\n"
     ]
    },
    {
     "data": {
      "image/png": "[encoded data removed]",
      "text/plain": [
       "<Figure size 432x288 with 1 Axes>"
      ]
     },
     "metadata": {
      "needs_background": "light"
     },
     "output_type": "display_data"
    }
   ],
   "source": [
    "print('Starting Airport Security Simulation')\n",
    "np.random.seed(RANDOM_SEED)\n",
    "\n",
    "# Create an environment and start the setup process\n",
    "mean_processing_times = []\n",
    "for _ in range(100):\n",
    "    \n",
    "    env = simpy.Environment()\n",
    "    env.process(setup(env, 30, 15, T_INTER))\n",
    "\n",
    "    #Execute\n",
    "    env.run(until=SIM_TIME)\n",
    "    \n",
    "    times = pd.DataFrame(processing_times)\n",
    "    mean_time = times['processing_time'].mean()\n",
    "    mean_processing_times.append(mean_time)\n",
    "plt.hist(mean_processing_times)\n",
    "plt.title('Histogram of mean passenger wait time')\n",
    "plt.xlabel('Passenger wait time');"
   ]
  },
  {
   "cell_type": "markdown",
   "metadata": {},
   "source": [
    "We are still off, so more body scanners to the rescue!"
   ]
  },
  {
   "cell_type": "code",
   "execution_count": 9,
   "metadata": {},
   "outputs": [
    {
     "name": "stdout",
     "output_type": "stream",
     "text": [
      "Starting Airport Security Simulation\n"
     ]
    },
    {
     "data": {
      "image/png": "[encoded data removed]",
      "text/plain": [
       "<Figure size 432x288 with 1 Axes>"
      ]
     },
     "metadata": {
      "needs_background": "light"
     },
     "output_type": "display_data"
    }
   ],
   "source": [
    "print('Starting Airport Security Simulation')\n",
    "np.random.seed(RANDOM_SEED)\n",
    "\n",
    "# Create an environment and start the setup process\n",
    "mean_processing_times = []\n",
    "for _ in range(100):\n",
    "    \n",
    "    env = simpy.Environment()\n",
    "    env.process(setup(env, 30, 30, T_INTER))\n",
    "\n",
    "    #Execute\n",
    "    env.run(until=SIM_TIME)\n",
    "    \n",
    "    times = pd.DataFrame(processing_times)\n",
    "    mean_time = times['processing_time'].mean()\n",
    "    mean_processing_times.append(mean_time)\n",
    "plt.hist(mean_processing_times)\n",
    "plt.title('Histogram of mean passenger wait time')\n",
    "plt.xlabel('Passenger wait time');"
   ]
  },
  {
   "cell_type": "markdown",
   "metadata": {},
   "source": [
    "We are still off the target wait time, so more id check servers please!"
   ]
  },
  {
   "cell_type": "code",
   "execution_count": 10,
   "metadata": {},
   "outputs": [
    {
     "name": "stdout",
     "output_type": "stream",
     "text": [
      "Starting Airport Security Simulation\n"
     ]
    },
    {
     "data": {
      "image/png": "[encoded data removed]",
      "text/plain": [
       "<Figure size 432x288 with 1 Axes>"
      ]
     },
     "metadata": {
      "needs_background": "light"
     },
     "output_type": "display_data"
    }
   ],
   "source": [
    "print('Starting Airport Security Simulation')\n",
    "np.random.seed(RANDOM_SEED)\n",
    "\n",
    "# Create an environment and start the setup process\n",
    "mean_processing_times = []\n",
    "for _ in range(100):\n",
    "    \n",
    "    env = simpy.Environment()\n",
    "    env.process(setup(env, 40, 30, T_INTER))\n",
    "\n",
    "    #Execute\n",
    "    env.run(until=SIM_TIME)\n",
    "    \n",
    "    times = pd.DataFrame(processing_times)\n",
    "    mean_time = times['processing_time'].mean()\n",
    "    mean_processing_times.append(mean_time)\n",
    "plt.hist(mean_processing_times)\n",
    "plt.title('Histogram of mean passenger wait time')\n",
    "plt.xlabel('Passenger wait time');"
   ]
  },
  {
   "cell_type": "markdown",
   "metadata": {},
   "source": [
    "Still off by a bit."
   ]
  },
  {
   "cell_type": "code",
   "execution_count": 12,
   "metadata": {},
   "outputs": [
    {
     "name": "stdout",
     "output_type": "stream",
     "text": [
      "Starting Airport Security Simulation\n"
     ]
    },
    {
     "data": {
      "image/png": "[encoded data removed]",
      "text/plain": [
       "<Figure size 432x288 with 1 Axes>"
      ]
     },
     "metadata": {
      "needs_background": "light"
     },
     "output_type": "display_data"
    }
   ],
   "source": [
    "print('Starting Airport Security Simulation')\n",
    "np.random.seed(RANDOM_SEED)\n",
    "\n",
    "# Create an environment and start the setup process\n",
    "mean_processing_times = []\n",
    "for _ in range(100):\n",
    "    \n",
    "    env = simpy.Environment()\n",
    "    env.process(setup(env, 70, 40, T_INTER))\n",
    "\n",
    "    #Execute\n",
    "    env.run(until=SIM_TIME)\n",
    "    \n",
    "    times = pd.DataFrame(processing_times)\n",
    "    mean_time = times['processing_time'].mean()\n",
    "    mean_processing_times.append(mean_time)\n",
    "plt.hist(mean_processing_times)\n",
    "plt.title('Histogram of mean passenger wait time')\n",
    "plt.xlabel('Passenger wait time');"
   ]
  },
  {
   "cell_type": "markdown",
   "metadata": {},
   "source": [
    "With f70 id checkers and 40 body scanning machines, we finally get average passenger wait times to under 15 minutes.\n",
    "\n",
    "The actual number of id check servers and body scanners required to get average wait times to under 15 minutes is probably somewhere between the last two iterations, though not necessarily as the large as this last configuration.\n",
    "\n",
    "Ideally, I would have included number of servers and number of body scanners as hyperparameters to tune in a loop and returned the minimum values that give the desired average processing time, but I spent a lot of time trying to figure out how to make the system work and couldn't devote enough time to cleaning up the code and enhancing the hyperparameter tuning."
   ]
  },
  {
   "cell_type": "code",
   "execution_count": null,
   "metadata": {},
   "outputs": [],
   "source": []
  }
 ],
 "metadata": {
  "kernelspec": {
   "display_name": "Python 3",
   "language": "python",
   "name": "python3"
  },
  "language_info": {
   "codemirror_mode": {
    "name": "ipython",
    "version": 3
   },
   "file_extension": ".py",
   "mimetype": "text/x-python",
   "name": "python",
   "nbconvert_exporter": "python",
   "pygments_lexer": "ipython3",
   "version": "3.7.4"
  }
 },
 "nbformat": 4,
 "nbformat_minor": 2
}
