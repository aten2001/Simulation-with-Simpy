{
 "cells": [
  {
   "cell_type": "code",
   "execution_count": 1,
   "metadata": {},
   "outputs": [],
   "source": [
    "import random\n",
    "import simpy"
   ]
  },
  {
   "cell_type": "code",
   "execution_count": 2,
   "metadata": {},
   "outputs": [],
   "source": [
    "RANDOM_SEED = 42\n",
    "NUM_MACHINES = 2  # Number of machines in the carwash\n",
    "WASHTIME = 5      # Minutes it takes to clean a car\n",
    "T_INTER = 7       # Create a car every ~7 minutes\n",
    "SIM_TIME = 20     # Simulation time in minutes"
   ]
  },
  {
   "cell_type": "code",
   "execution_count": 3,
   "metadata": {},
   "outputs": [
    {
     "name": "stdout",
     "output_type": "stream",
     "text": [
      "Carwash\n",
      "Car 0 arrives at the carwash at 0.0\n",
      "Car 1 arrives at the carwash at 0.0\n",
      "Car 2 arrives at the carwash at 0.0\n",
      "Car 3 arrives at the carwash at 0.0\n",
      "Car 0 enters the carwash at 0.0\n",
      "Car 1 enters the carwash at 0.0\n",
      "Car 4 arrives at the carwash at 5.0\n",
      "Carwash removed 97% of Car 0's dirt.\n",
      "Carwash removed 67% of Car 1's dirt.\n",
      "Car 0 leaves the carwash at 5.0\n",
      "Car 1 leaves the carwash at 5.0\n",
      "Car 2 enters the carwash at 5.0\n",
      "Car 3 enters the carwash at 5.0\n",
      "Car 5 arrives at the carwash at 10.0\n",
      "Carwash removed 64% of Car 2's dirt.\n",
      "Carwash removed 58% of Car 3's dirt.\n",
      "Car 2 leaves the carwash at 10.0\n",
      "Car 3 leaves the carwash at 10.0\n",
      "Car 4 enters the carwash at 10.0\n",
      "Car 5 enters the carwash at 10.0\n",
      "Carwash removed 97% of Car 4's dirt.\n",
      "Carwash removed 56% of Car 5's dirt.\n",
      "Car 4 leaves the carwash at 15.0\n",
      "Car 5 leaves the carwash at 15.0\n",
      "Car 6 arrives at the carwash at 16.0\n",
      "Car 6 enters the carwash at 16.0\n"
     ]
    }
   ],
   "source": [
    "class Carwash:\n",
    "    \"\"\"A carwash has a limited number of machines to clean cars in parallel.\n",
    "    Cars have to request one of the machines(``NUM_MACHINES``). When they get one, they can start\n",
    "    the washing process and wait for it to finish (which takes ``washtime`` minutes.)\n",
    "    \n",
    "    \"\"\"\n",
    "    def __init__(self, env, num_machines, washtime=WASHTIME):\n",
    "        self.env = env\n",
    "        self.machine = simpy.Resource(env, num_machines)\n",
    "        self.washtime = washtime\n",
    "    \n",
    "    def wash(self, car):\n",
    "        yield self.env.timeout(self.washtime)\n",
    "        print(f\"Carwash removed {random.randint(50, 99)}% of {car}'s dirt.\")\n",
    "        \n",
    "def car(env, name, cw):\n",
    "    \"\"\"The car process (each car has a ``name``) arrives at the carwash\n",
    "    (``cw``) and requests a cleaning machinne\n",
    "    \n",
    "    It then starts the washing process, waits for it to finish and \n",
    "    leaves to never come back...\n",
    "    \"\"\"\n",
    "    print(f\"{name} arrives at the carwash at {float(env.now)}\")\n",
    "    with cw.machine.request() as request:\n",
    "        yield request\n",
    "        \n",
    "        print(f'{name} enters the carwash at {float(env.now)}')\n",
    "        yield env.process(cw.wash(name))\n",
    "        \n",
    "        print(f'{name} leaves the carwash at {float(env.now)}')\n",
    "        \n",
    "def setup(env, num_machines, washtime, t_inter):\n",
    "    \"\"\"Create a carwash, a number of initial cars and keep creating cars approx\n",
    "    every ``t_integer`` minutes.\"\"\"\n",
    "    # Create the carwash\n",
    "    carwash = Carwash(env, num_machines, washtime)\n",
    "    \n",
    "    # Create 4 initial cars\n",
    "    for i in range(4):\n",
    "        env.process(car(env, f'Car {i}', carwash))\n",
    "        \n",
    "    # Create more cars while the simulation is running\n",
    "    while True:\n",
    "        yield env.timeout(random.randint(t_inter - 2, t_inter + 2))\n",
    "        i += 1\n",
    "        env.process(car(env, f'Car {i}', carwash))\n",
    "        \n",
    "# Setup and start the simulation\n",
    "print('Carwash')\n",
    "random.seed(RANDOM_SEED)\n",
    "\n",
    "# Create an environment and start the setup process\n",
    "env = simpy.Environment()\n",
    "env.process(setup(env, NUM_MACHINES, WASHTIME, T_INTER))\n",
    "\n",
    "# Execute\n",
    "env.run(until=SIM_TIME)"
   ]
  },
  {
   "cell_type": "code",
   "execution_count": null,
   "metadata": {},
   "outputs": [],
   "source": []
  }
 ],
 "metadata": {
  "kernelspec": {
   "display_name": "Python 3",
   "language": "python",
   "name": "python3"
  },
  "language_info": {
   "codemirror_mode": {
    "name": "ipython",
    "version": 3
   },
   "file_extension": ".py",
   "mimetype": "text/x-python",
   "name": "python",
   "nbconvert_exporter": "python",
   "pygments_lexer": "ipython3",
   "version": "3.7.4"
  }
 },
 "nbformat": 4,
 "nbformat_minor": 2
}
